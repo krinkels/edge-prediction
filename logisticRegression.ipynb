{
 "cells": [
  {
   "cell_type": "code",
   "execution_count": 1,
   "metadata": {
    "collapsed": true
   },
   "outputs": [],
   "source": [
    "import snap\n",
    "import numpy as np\n",
    "import matplotlib.pyplot as plt\n",
    "import featureextraction\n",
    "import graphloading"
   ]
  },
  {
   "cell_type": "code",
   "execution_count": 2,
   "metadata": {
    "collapsed": false
   },
   "outputs": [],
   "source": [
    "graph = graphloading.loadWikiGraph()\n",
    "(trainingExamplesX, trainingExamplesY, testingExamplesX, testingExamplesY) = graphloading.generateExamples(graph)"
   ]
  },
  {
   "cell_type": "code",
   "execution_count": 34,
   "metadata": {
    "collapsed": false
   },
   "outputs": [
    {
     "name": "stdout",
     "output_type": "stream",
     "text": [
      "Percent Correct: 90.75\n"
     ]
    }
   ],
   "source": [
    "from sklearn.linear_model import LogisticRegression\n",
    "from sklearn import datasets\n",
    "from sklearn.preprocessing import StandardScaler\n",
    "\n",
    "trainingExamplesX_scaled = StandardScaler().fit_transform(trainingExamplesX)\n",
    "testingExamplesX_scaled = StandardScaler().fit_transform(testingExamplesX)\n",
    "\n",
    "clf = LogisticRegression(C=1, penalty='l2',tol=0.001)\n",
    "clf.fit(trainingExamplesX_scaled,trainingExamplesY)\n",
    "\n",
    "coef = clf.coef_\n",
    "intercept = clf.intercept_\n",
    "\n",
    "testPredictions = clf.predict(testingExamplesX_scaled)\n",
    "numIncorrect = sum(testPredictions!=testingExamplesY)\n",
    "numCorrect = sum(testPredictions==testingExamplesY)\n",
    "print \"Percent Correct: %.2f\" % (100.0*float(numCorrect) / len(testingExamplesY))"
   ]
  },
  {
   "cell_type": "code",
   "execution_count": null,
   "metadata": {
    "collapsed": true
   },
   "outputs": [],
   "source": []
  }
 ],
 "metadata": {
  "kernelspec": {
   "display_name": "Python 2",
   "language": "python",
   "name": "python2"
  },
  "language_info": {
   "codemirror_mode": {
    "name": "ipython",
    "version": 2
   },
   "file_extension": ".py",
   "mimetype": "text/x-python",
   "name": "python",
   "nbconvert_exporter": "python",
   "pygments_lexer": "ipython2",
   "version": "2.7.6"
  }
 },
 "nbformat": 4,
 "nbformat_minor": 0
}
