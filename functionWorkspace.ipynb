{
 "cells": [
  {
   "cell_type": "code",
   "execution_count": null,
   "metadata": {
    "collapsed": false
   },
   "outputs": [],
   "source": [
    "import numpy as np\n",
    "import graphloading\n",
    "import logisticRegression\n",
    "import neuralNetwork\n",
    "import SVM\n",
    "import sys"
   ]
  },
  {
   "cell_type": "code",
   "execution_count": null,
   "metadata": {
    "collapsed": false
   },
   "outputs": [],
   "source": [
    "def edgePrediction(classifier='LR',trainFilename = 'Wiki',testFilenames = ['Astrophysics']):\n",
    "  \n",
    "    try:\n",
    "        features = np.genfromtxt('featureFiles/' + trainFilename + '.features', delimiter=' ')\n",
    "        labels   = np.genfromtxt('featureFiles/' + trainFilename + '.labels',   delimiter=' ')\n",
    "    except IOError as e:\n",
    "        print \"Could not open featureFiles/\" + trainFilename + \".features \" + \"or featureFiles/\" + trainFilename + \".labels\"\n",
    "        return\n",
    "    \n",
    "    splitIndex = np.argmin(labels)\n",
    "    trainingExamplesX = features[:splitIndex]\n",
    "    trainingExamplesY = labels[:splitIndex]\n",
    "    print \"Training with \" + trainFilename + \" Dataset:\"\n",
    "    \n",
    "    if classifier.lower() == 'lr':\n",
    "        print \"Using logistic regression\"\n",
    "        sys.stdout.flush()\n",
    "        clf = logisticRegression.train(trainingExamplesX,trainingExamplesY)\n",
    "    elif classifier.lower() == 'svm':\n",
    "        print \"Using SVM\"\n",
    "        sys.stdout.flush()\n",
    "        clf = SVM.train(trainingExamplesX,trainingExamplesY)\n",
    "    elif classifier.lower() == 'nn':\n",
    "        print \"Using neural network\"\n",
    "        sys.stdout.flush()\n",
    "        clf = neuralNetwork.train(trainingExamplesX,trainingExamplesY)\n",
    "    else:\n",
    "        print \"Could not understand classifier: \"  + classifier\n",
    "        print \"Using logistic regression\"\n",
    "        sys.stdout.flush()\n",
    "        clf = logisticRegression.train(trainingExamplesX,trainingExamplesY)\n",
    "\n",
    "    for filename in testFilenames:\n",
    "        try:\n",
    "            features = np.genfromtxt('featureFiles/' + filename + '.features', delimiter=' ')\n",
    "            labels   = np.genfromtxt('featureFiles/' + filename + '.labels',   delimiter=' ')\n",
    "        except IOError as e:\n",
    "            print \"Could not open featureFiles/\" + filename + \".features \" + \"or featureFiles/\" + filename + \".labels\"\n",
    "            sys.stdout.flush()\n",
    "            continue\n",
    "        \n",
    "        splitIndex = np.argmin(labels)\n",
    "        testingExamplesX = features[(splitIndex+1):]\n",
    "        testingExamplesY = labels[(splitIndex+1):]\n",
    "        \n",
    "        #Compute prediction accuracy\n",
    "        testPredictions = clf.predict(testingExamplesX)\n",
    "        numCorrect = sum(testPredictions==testingExamplesY)\n",
    "        print filename + \": Percent Correct: %.3f\" % (100.0*float(numCorrect) / len(testingExamplesY))\n",
    "        sys.stdout.flush()\n",
    "    print \" \""
   ]
  },
  {
   "cell_type": "code",
   "execution_count": null,
   "metadata": {
    "collapsed": false
   },
   "outputs": [],
   "source": [
    "filenames = [\"Wiki\",\"AstroPhysics\",\"CondensedMatter\",\"GeneralRelativity\",'HEPhysics','HEPhysicsTheory']\n",
    "for reg in ['lr','svm','nn']:\n",
    "    for fn in filenames:\n",
    "        edgePrediction(reg,fn,filenames)"
   ]
  },
  {
   "cell_type": "code",
   "execution_count": null,
   "metadata": {
    "collapsed": false
   },
   "outputs": [],
   "source": [
    "graphloading.generateFeatureFiles(['Wiki','CondensedMatter','BLAH'])"
   ]
  }
 ],
 "metadata": {
  "kernelspec": {
   "display_name": "Python 2",
   "language": "python",
   "name": "python2"
  },
  "language_info": {
   "codemirror_mode": {
    "name": "ipython",
    "version": 2
   },
   "file_extension": ".py",
   "mimetype": "text/x-python",
   "name": "python",
   "nbconvert_exporter": "python",
   "pygments_lexer": "ipython2",
   "version": "2.7.6"
  }
 },
 "nbformat": 4,
 "nbformat_minor": 0
}
